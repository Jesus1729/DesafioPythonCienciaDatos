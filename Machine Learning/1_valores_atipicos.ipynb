{
 "cells": [
  {
   "cell_type": "markdown",
   "metadata": {},
   "source": [
    "## Desafío\n",
    "Detectar los valores atípicos que nos dan en el archivo '**datos.csv**'.\n",
    "\n",
    "1. Usar la clase *LocalOutlierFactor* de *scikit-learn* para analizar valores atípicos en el conjunto de datos dado.\n",
    "\n",
    "2. Crear una nueva columna en el DataFrame llamado 'local_outlier'.\n",
    "\n",
    "3. En la columna 'local_outlier', guardar el resultado de la predicción y determinar si cada muestra es normal o atípica (1 normal, -1 atípico).\n",
    "\n",
    "4. Mostrar el total de valores atípicos en este conjunto de datos.\n"
   ]
  },
  {
   "cell_type": "markdown",
   "metadata": {},
   "source": [
    "## Librerías"
   ]
  },
  {
   "cell_type": "code",
   "execution_count": 1,
   "metadata": {},
   "outputs": [],
   "source": [
    "import pandas as pd\n",
    "from sklearn.neighbors import LocalOutlierFactor"
   ]
  },
  {
   "cell_type": "code",
   "execution_count": 2,
   "metadata": {},
   "outputs": [
    {
     "data": {
      "text/html": [
       "<div>\n",
       "<style scoped>\n",
       "    .dataframe tbody tr th:only-of-type {\n",
       "        vertical-align: middle;\n",
       "    }\n",
       "\n",
       "    .dataframe tbody tr th {\n",
       "        vertical-align: top;\n",
       "    }\n",
       "\n",
       "    .dataframe thead th {\n",
       "        text-align: right;\n",
       "    }\n",
       "</style>\n",
       "<table border=\"1\" class=\"dataframe\">\n",
       "  <thead>\n",
       "    <tr style=\"text-align: right;\">\n",
       "      <th></th>\n",
       "      <th>Variable1</th>\n",
       "      <th>Variable2</th>\n",
       "    </tr>\n",
       "  </thead>\n",
       "  <tbody>\n",
       "    <tr>\n",
       "      <th>0</th>\n",
       "      <td>-4.030499</td>\n",
       "      <td>-6.955657</td>\n",
       "    </tr>\n",
       "    <tr>\n",
       "      <th>1</th>\n",
       "      <td>-6.687653</td>\n",
       "      <td>7.467359</td>\n",
       "    </tr>\n",
       "    <tr>\n",
       "      <th>2</th>\n",
       "      <td>-3.334960</td>\n",
       "      <td>5.775981</td>\n",
       "    </tr>\n",
       "    <tr>\n",
       "      <th>3</th>\n",
       "      <td>-5.812554</td>\n",
       "      <td>-7.506389</td>\n",
       "    </tr>\n",
       "    <tr>\n",
       "      <th>4</th>\n",
       "      <td>-6.648924</td>\n",
       "      <td>7.142999</td>\n",
       "    </tr>\n",
       "  </tbody>\n",
       "</table>\n",
       "</div>"
      ],
      "text/plain": [
       "   Variable1  Variable2\n",
       "0  -4.030499  -6.955657\n",
       "1  -6.687653   7.467359\n",
       "2  -3.334960   5.775981\n",
       "3  -5.812554  -7.506389\n",
       "4  -6.648924   7.142999"
      ]
     },
     "execution_count": 2,
     "metadata": {},
     "output_type": "execute_result"
    }
   ],
   "source": [
    "# Leemos los datos\n",
    "df = pd.read_csv('datos.csv', sep=';')\n",
    "df.head()"
   ]
  },
  {
   "cell_type": "code",
   "execution_count": 3,
   "metadata": {},
   "outputs": [],
   "source": [
    "# Creamos un objeto LocalOutlierFactor\n",
    "lof = LocalOutlierFactor()\n",
    "\n",
    "# Calculamos los valores atípicos y \n",
    "# los guardamos en una nueva columna\n",
    "df['local_outlier'] = lof.fit_predict(df)"
   ]
  },
  {
   "cell_type": "code",
   "execution_count": 4,
   "metadata": {},
   "outputs": [
    {
     "name": "stdout",
     "output_type": "stream",
     "text": [
      "Total de valores atípicos: 41\n",
      "Total de valores normales: 959\n"
     ]
    }
   ],
   "source": [
    "# Contamos el total de valores atípicos\n",
    "total_atipicos = (df['local_outlier'] == -1).sum()\n",
    "\n",
    "# Mostramos el total de valores atípicos y los normales\n",
    "print('Total de valores atípicos:', total_atipicos)\n",
    "print('Total de valores normales:', len(df) - total_atipicos)"
   ]
  }
 ],
 "metadata": {
  "kernelspec": {
   "display_name": "Python 3",
   "language": "python",
   "name": "python3"
  },
  "language_info": {
   "codemirror_mode": {
    "name": "ipython",
    "version": 3
   },
   "file_extension": ".py",
   "mimetype": "text/x-python",
   "name": "python",
   "nbconvert_exporter": "python",
   "pygments_lexer": "ipython3",
   "version": "3.10.0"
  }
 },
 "nbformat": 4,
 "nbformat_minor": 2
}
