{
 "cells": [
  {
   "cell_type": "markdown",
   "metadata": {},
   "source": [
    "## Desafío\n",
    "Averiguar si existe relación entre los años\n",
    "de experiencia laboral y el salario, utilizando Python y la librería de Pandas."
   ]
  },
  {
   "cell_type": "markdown",
   "metadata": {},
   "source": [
    "## Librerías"
   ]
  },
  {
   "cell_type": "code",
   "execution_count": 1,
   "metadata": {},
   "outputs": [],
   "source": [
    "import pandas as pd\n",
    "import matplotlib.pyplot as plt"
   ]
  },
  {
   "cell_type": "markdown",
   "metadata": {},
   "source": [
    "## Lectura de datos"
   ]
  },
  {
   "cell_type": "code",
   "execution_count": 2,
   "metadata": {},
   "outputs": [
    {
     "data": {
      "text/html": [
       "<div>\n",
       "<style scoped>\n",
       "    .dataframe tbody tr th:only-of-type {\n",
       "        vertical-align: middle;\n",
       "    }\n",
       "\n",
       "    .dataframe tbody tr th {\n",
       "        vertical-align: top;\n",
       "    }\n",
       "\n",
       "    .dataframe thead th {\n",
       "        text-align: right;\n",
       "    }\n",
       "</style>\n",
       "<table border=\"1\" class=\"dataframe\">\n",
       "  <thead>\n",
       "    <tr style=\"text-align: right;\">\n",
       "      <th></th>\n",
       "      <th>Nombre</th>\n",
       "      <th>Sexo</th>\n",
       "      <th>Estado_Civil</th>\n",
       "      <th>Edad</th>\n",
       "      <th>Experiencia</th>\n",
       "      <th>Salario</th>\n",
       "      <th>Gerencia</th>\n",
       "      <th>Departamento</th>\n",
       "    </tr>\n",
       "  </thead>\n",
       "  <tbody>\n",
       "    <tr>\n",
       "      <th>0</th>\n",
       "      <td>Alexandro</td>\n",
       "      <td>Masculino</td>\n",
       "      <td>Soltero(a)</td>\n",
       "      <td>22</td>\n",
       "      <td>3</td>\n",
       "      <td>2423</td>\n",
       "      <td>No</td>\n",
       "      <td>Publicidad</td>\n",
       "    </tr>\n",
       "    <tr>\n",
       "      <th>1</th>\n",
       "      <td>Felipa</td>\n",
       "      <td>Femenino</td>\n",
       "      <td>Soltero(a)</td>\n",
       "      <td>26</td>\n",
       "      <td>5</td>\n",
       "      <td>2639</td>\n",
       "      <td>No</td>\n",
       "      <td>Comercial</td>\n",
       "    </tr>\n",
       "    <tr>\n",
       "      <th>2</th>\n",
       "      <td>Daniel</td>\n",
       "      <td>Masculino</td>\n",
       "      <td>Casado(a)</td>\n",
       "      <td>35</td>\n",
       "      <td>10</td>\n",
       "      <td>3122</td>\n",
       "      <td>No</td>\n",
       "      <td>Comercial</td>\n",
       "    </tr>\n",
       "    <tr>\n",
       "      <th>3</th>\n",
       "      <td>John</td>\n",
       "      <td>Masculino</td>\n",
       "      <td>Casado(a)</td>\n",
       "      <td>35</td>\n",
       "      <td>13</td>\n",
       "      <td>3431</td>\n",
       "      <td>Sí</td>\n",
       "      <td>Servicios al cliente</td>\n",
       "    </tr>\n",
       "    <tr>\n",
       "      <th>4</th>\n",
       "      <td>Ruperta</td>\n",
       "      <td>Femenino</td>\n",
       "      <td>Casado(a)</td>\n",
       "      <td>54</td>\n",
       "      <td>18</td>\n",
       "      <td>3962</td>\n",
       "      <td>No</td>\n",
       "      <td>Producto</td>\n",
       "    </tr>\n",
       "  </tbody>\n",
       "</table>\n",
       "</div>"
      ],
      "text/plain": [
       "      Nombre       Sexo Estado_Civil  Edad  Experiencia  Salario Gerencia  \\\n",
       "0  Alexandro  Masculino   Soltero(a)    22            3     2423       No   \n",
       "1     Felipa   Femenino   Soltero(a)    26            5     2639       No   \n",
       "2     Daniel  Masculino    Casado(a)    35           10     3122       No   \n",
       "3       John  Masculino    Casado(a)    35           13     3431       Sí   \n",
       "4    Ruperta   Femenino    Casado(a)    54           18     3962       No   \n",
       "\n",
       "           Departamento  \n",
       "0            Publicidad  \n",
       "1             Comercial  \n",
       "2             Comercial  \n",
       "3  Servicios al cliente  \n",
       "4              Producto  "
      ]
     },
     "execution_count": 2,
     "metadata": {},
     "output_type": "execute_result"
    }
   ],
   "source": [
    "df = pd.read_csv('empleados.csv', sep=';')\n",
    "df.head()"
   ]
  },
  {
   "cell_type": "markdown",
   "metadata": {},
   "source": [
    "## Solución"
   ]
  },
  {
   "cell_type": "code",
   "execution_count": 3,
   "metadata": {},
   "outputs": [
    {
     "name": "stdout",
     "output_type": "stream",
     "text": [
      "Coeficiente de correlación entre años de experiencia y salario: 0.9921693470596841\n",
      "Hay una correlación positiva entre años de experiencia y salario.\n"
     ]
    }
   ],
   "source": [
    "# Calcular el coeficiente de correlación entre las columnas 'experiencia' y 'salario'\n",
    "correlacion = df['Experiencia'].corr(df['Salario'])\n",
    "\n",
    "# Imprimir el coeficiente de correlación\n",
    "print(\"Coeficiente de correlación entre años de experiencia y salario:\", correlacion)\n",
    "\n",
    "# Interpretar el resultado\n",
    "if correlacion > 0:\n",
    "    print(\"Hay una correlación positiva entre años de experiencia y salario.\")\n",
    "elif correlacion < 0:\n",
    "    print(\"Hay una correlación negativa entre años de experiencia y salario.\")\n",
    "else:\n",
    "    print(\"No hay una correlación lineal entre años de experiencia y salario.\")"
   ]
  },
  {
   "cell_type": "code",
   "execution_count": 4,
   "metadata": {},
   "outputs": [
    {
     "data": {
      "text/plain": [
       "Text(0, 0.5, 'Salario')"
      ]
     },
     "execution_count": 4,
     "metadata": {},
     "output_type": "execute_result"
    },
    {
     "data": {
      "image/png": "[encoded data removed]",
      "text/plain": [
       "<Figure size 640x480 with 1 Axes>"
      ]
     },
     "metadata": {},
     "output_type": "display_data"
    }
   ],
   "source": [
    "# Graficamos la relación entre las dos variables\n",
    "plt.scatter(df['Experiencia'], df['Salario'])\n",
    "plt.xlabel('Años de experiencia')\n",
    "plt.ylabel('Salario')"
   ]
  }
 ],
 "metadata": {
  "kernelspec": {
   "display_name": "Python 3",
   "language": "python",
   "name": "python3"
  },
  "language_info": {
   "codemirror_mode": {
    "name": "ipython",
    "version": 3
   },
   "file_extension": ".py",
   "mimetype": "text/x-python",
   "name": "python",
   "nbconvert_exporter": "python",
   "pygments_lexer": "ipython3",
   "version": "3.10.0"
  }
 },
 "nbformat": 4,
 "nbformat_minor": 2
}
