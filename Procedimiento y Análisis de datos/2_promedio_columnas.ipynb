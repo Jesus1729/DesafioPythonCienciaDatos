{
 "cells": [
  {
   "cell_type": "markdown",
   "metadata": {},
   "source": [
    "## Desafío\n",
    "\n",
    "Obtener el promedio de cada una de las columnas del dataframe, utilizando Python y la librería de Pandas."
   ]
  },
  {
   "cell_type": "code",
   "execution_count": 1,
   "metadata": {},
   "outputs": [],
   "source": [
    "import pandas as pd"
   ]
  },
  {
   "cell_type": "code",
   "execution_count": 2,
   "metadata": {},
   "outputs": [
    {
     "name": "stdout",
     "output_type": "stream",
     "text": [
      "<class 'pandas.core.frame.DataFrame'>\n",
      "RangeIndex: 143 entries, 0 to 142\n",
      "Data columns (total 8 columns):\n",
      " #   Column        Non-Null Count  Dtype \n",
      "---  ------        --------------  ----- \n",
      " 0   Nombre        143 non-null    object\n",
      " 1   Sexo          143 non-null    object\n",
      " 2   Estado_Civil  143 non-null    object\n",
      " 3   Edad          143 non-null    int64 \n",
      " 4   Experiencia   143 non-null    int64 \n",
      " 5   Salario       143 non-null    int64 \n",
      " 6   Gerencia      143 non-null    object\n",
      " 7   Departamento  143 non-null    object\n",
      "dtypes: int64(3), object(5)\n",
      "memory usage: 9.1+ KB\n"
     ]
    }
   ],
   "source": [
    "# Leemos los datos\n",
    "df = pd.read_csv('empleados.csv', sep=';')\n",
    "df.info()"
   ]
  },
  {
   "cell_type": "code",
   "execution_count": 3,
   "metadata": {},
   "outputs": [
    {
     "name": "stdout",
     "output_type": "stream",
     "text": [
      "Edad: 33.7972027972028\n",
      "Experiencia: 6.8671328671328675\n",
      "Salario: 2778.6573426573427\n"
     ]
    }
   ],
   "source": [
    "# Las columnas con valores numéricos son\n",
    "# Edad, Experiencia y Salario\n",
    "# Calculamos la media de cada una\n",
    "print('Edad:', df['Edad'].mean())\n",
    "print('Experiencia:', df['Experiencia'].mean())\n",
    "print('Salario:', df['Salario'].mean())"
   ]
  }
 ],
 "metadata": {
  "kernelspec": {
   "display_name": "Python 3",
   "language": "python",
   "name": "python3"
  },
  "language_info": {
   "codemirror_mode": {
    "name": "ipython",
    "version": 3
   },
   "file_extension": ".py",
   "mimetype": "text/x-python",
   "name": "python",
   "nbconvert_exporter": "python",
   "pygments_lexer": "ipython3",
   "version": "3.10.0"
  }
 },
 "nbformat": 4,
 "nbformat_minor": 2
}
